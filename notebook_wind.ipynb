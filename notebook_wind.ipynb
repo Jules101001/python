{
 "cells": [
  {
   "attachments": {},
   "cell_type": "markdown",
   "metadata": {},
   "source": [
    "Coursework Wind Energy\n",
    "\n",
    "Importation of data and libraries"
   ]
  },
  {
   "cell_type": "code",
   "execution_count": 18,
   "metadata": {},
   "outputs": [],
   "source": [
    "# import libraries\n",
    "import pandas as pd\n",
    "import numpy as np\n",
    "import matplotlib.pyplot as plt\n",
    "import seaborn as sns\n",
    "# Ignore warnings\n",
    "pd.options.mode.chained_assignment = None"
   ]
  },
  {
   "cell_type": "code",
   "execution_count": 19,
   "metadata": {},
   "outputs": [],
   "source": [
    "# import data\n",
    "data_wind = pd.read_csv('data_wind.csv', sep=';')\n",
    "data_wind[\"Day\"] = pd.to_datetime(data_wind[\"Day\"], format='%d.%m.%Y',errors='ignore')"
   ]
  },
  {
   "attachments": {},
   "cell_type": "markdown",
   "metadata": {},
   "source": [
    "Description of the data"
   ]
  },
  {
   "cell_type": "code",
   "execution_count": 20,
   "metadata": {},
   "outputs": [
    {
     "data": {
      "text/plain": [
       "count    99.000000\n",
       "mean      6.995960\n",
       "std       5.002651\n",
       "min       0.500000\n",
       "25%       3.200000\n",
       "50%       6.700000\n",
       "75%       8.900000\n",
       "max      20.300000\n",
       "Name: Anemometer reading [m/s], dtype: float64"
      ]
     },
     "execution_count": 20,
     "metadata": {},
     "output_type": "execute_result"
    }
   ],
   "source": [
    "data_wind[\"Anemometer reading [m/s]\"].describe()"
   ]
  },
  {
   "attachments": {},
   "cell_type": "markdown",
   "metadata": {},
   "source": [
    "Table of distribution of the wind"
   ]
  },
  {
   "cell_type": "code",
   "execution_count": 21,
   "metadata": {},
   "outputs": [
    {
     "data": {
      "text/html": [
       "<div>\n",
       "<style scoped>\n",
       "    .dataframe tbody tr th:only-of-type {\n",
       "        vertical-align: middle;\n",
       "    }\n",
       "\n",
       "    .dataframe tbody tr th {\n",
       "        vertical-align: top;\n",
       "    }\n",
       "\n",
       "    .dataframe thead th {\n",
       "        text-align: right;\n",
       "    }\n",
       "</style>\n",
       "<table border=\"1\" class=\"dataframe\">\n",
       "  <thead>\n",
       "    <tr style=\"text-align: right;\">\n",
       "      <th></th>\n",
       "      <th>ni</th>\n",
       "    </tr>\n",
       "    <tr>\n",
       "      <th>Speed groups</th>\n",
       "      <th></th>\n",
       "    </tr>\n",
       "  </thead>\n",
       "  <tbody>\n",
       "    <tr>\n",
       "      <th>0.5-1.5</th>\n",
       "      <td>14</td>\n",
       "    </tr>\n",
       "    <tr>\n",
       "      <th>1.5-2.5</th>\n",
       "      <td>5</td>\n",
       "    </tr>\n",
       "    <tr>\n",
       "      <th>2.5-3.5</th>\n",
       "      <td>9</td>\n",
       "    </tr>\n",
       "    <tr>\n",
       "      <th>3.5-4.5</th>\n",
       "      <td>10</td>\n",
       "    </tr>\n",
       "    <tr>\n",
       "      <th>4.5-5.5</th>\n",
       "      <td>5</td>\n",
       "    </tr>\n",
       "    <tr>\n",
       "      <th>5.5-6.5</th>\n",
       "      <td>6</td>\n",
       "    </tr>\n",
       "    <tr>\n",
       "      <th>6.5-7.5</th>\n",
       "      <td>10</td>\n",
       "    </tr>\n",
       "    <tr>\n",
       "      <th>7.5-8.5</th>\n",
       "      <td>13</td>\n",
       "    </tr>\n",
       "    <tr>\n",
       "      <th>8.5-9.5</th>\n",
       "      <td>4</td>\n",
       "    </tr>\n",
       "    <tr>\n",
       "      <th>9.5-10.5</th>\n",
       "      <td>6</td>\n",
       "    </tr>\n",
       "    <tr>\n",
       "      <th>10.5-11.5</th>\n",
       "      <td>3</td>\n",
       "    </tr>\n",
       "    <tr>\n",
       "      <th>11.5-12.5</th>\n",
       "      <td>0</td>\n",
       "    </tr>\n",
       "    <tr>\n",
       "      <th>12.5-13.5</th>\n",
       "      <td>1</td>\n",
       "    </tr>\n",
       "    <tr>\n",
       "      <th>13.5-14.5</th>\n",
       "      <td>2</td>\n",
       "    </tr>\n",
       "    <tr>\n",
       "      <th>14.5-15.5</th>\n",
       "      <td>1</td>\n",
       "    </tr>\n",
       "    <tr>\n",
       "      <th>15.5-16.5</th>\n",
       "      <td>3</td>\n",
       "    </tr>\n",
       "    <tr>\n",
       "      <th>16.5-17.5</th>\n",
       "      <td>1</td>\n",
       "    </tr>\n",
       "    <tr>\n",
       "      <th>17.5-18.5</th>\n",
       "      <td>1</td>\n",
       "    </tr>\n",
       "    <tr>\n",
       "      <th>18.5-19.5</th>\n",
       "      <td>4</td>\n",
       "    </tr>\n",
       "    <tr>\n",
       "      <th>19.5-20.5</th>\n",
       "      <td>1</td>\n",
       "    </tr>\n",
       "  </tbody>\n",
       "</table>\n",
       "</div>"
      ],
      "text/plain": [
       "              ni\n",
       "Speed groups    \n",
       "0.5-1.5       14\n",
       "1.5-2.5        5\n",
       "2.5-3.5        9\n",
       "3.5-4.5       10\n",
       "4.5-5.5        5\n",
       "5.5-6.5        6\n",
       "6.5-7.5       10\n",
       "7.5-8.5       13\n",
       "8.5-9.5        4\n",
       "9.5-10.5       6\n",
       "10.5-11.5      3\n",
       "11.5-12.5      0\n",
       "12.5-13.5      1\n",
       "13.5-14.5      2\n",
       "14.5-15.5      1\n",
       "15.5-16.5      3\n",
       "16.5-17.5      1\n",
       "17.5-18.5      1\n",
       "18.5-19.5      4\n",
       "19.5-20.5      1"
      ]
     },
     "execution_count": 21,
     "metadata": {},
     "output_type": "execute_result"
    }
   ],
   "source": [
    "data_wind[\"Speed groups\"] = pd.cut(data_wind[\"Anemometer reading [m/s]\"], bins=[0.49,1.5,2.5,3.5,4.5,5.5,6.5,7.5,8.5,9.5,10.5,11.5,12.5,13.5,14.5,15.5,16.5,17.5,18.5,19.5,20.5], labels=[\"0.5-1.5\",\"1.5-2.5\",\"2.5-3.5\",\"3.5-4.5\",\"4.5-5.5\",\"5.5-6.5\",\"6.5-7.5\",\"7.5-8.5\",\"8.5-9.5\",\"9.5-10.5\",\"10.5-11.5\",\"11.5-12.5\",\"12.5-13.5\",\"13.5-14.5\",\"14.5-15.5\",\"15.5-16.5\",\"16.5-17.5\",\"17.5-18.5\",\"18.5-19.5\",\"19.5-20.5\"])\n",
    "hist_data  = data_wind.groupby(data_wind[\"Speed groups\"]).count()\n",
    "hist_data[\"ni\"] = hist_data[\"Anemometer reading [m/s]\"]\n",
    "hist_data.drop([\"Anemometer reading [m/s]\",\"Day\",\"Time /hour\"], axis=1, inplace=True)\n",
    "hist_data"
   ]
  },
  {
   "attachments": {},
   "cell_type": "markdown",
   "metadata": {},
   "source": [
    "Plot the histogram"
   ]
  },
  {
   "cell_type": "code",
   "execution_count": 22,
   "metadata": {},
   "outputs": [
    {
     "data": {
      "text/plain": [
       "<Axes: xlabel='Anemometer reading [m/s]', ylabel='Count'>"
      ]
     },
     "execution_count": 22,
     "metadata": {},
     "output_type": "execute_result"
    },
    {
     "data": {
      "image/png": "[encoded data removed]",
      "text/plain": [
       "<Figure size 640x480 with 1 Axes>"
      ]
     },
     "metadata": {},
     "output_type": "display_data"
    }
   ],
   "source": [
    "# plot histogram of wind speed\n",
    "sns.histplot(data_wind[\"Anemometer reading [m/s]\"], color = 'darkblue', bins=[0.5,1.51,2.51,3.51,4.51,5.51,6.51,7.51,8.51,9.51,10.51,11.51,12.51,13.51,14.51,15.51,16.51,17.51,18.51,19.51,20.51])\n"
   ]
  },
  {
   "attachments": {},
   "cell_type": "markdown",
   "metadata": {},
   "source": [
    "Table of density of the wind"
   ]
  },
  {
   "cell_type": "code",
   "execution_count": 23,
   "metadata": {},
   "outputs": [
    {
     "data": {
      "text/html": [
       "<div>\n",
       "<style scoped>\n",
       "    .dataframe tbody tr th:only-of-type {\n",
       "        vertical-align: middle;\n",
       "    }\n",
       "\n",
       "    .dataframe tbody tr th {\n",
       "        vertical-align: top;\n",
       "    }\n",
       "\n",
       "    .dataframe thead th {\n",
       "        text-align: right;\n",
       "    }\n",
       "</style>\n",
       "<table border=\"1\" class=\"dataframe\">\n",
       "  <thead>\n",
       "    <tr style=\"text-align: right;\">\n",
       "      <th></th>\n",
       "      <th>ni</th>\n",
       "    </tr>\n",
       "    <tr>\n",
       "      <th>Speed groups</th>\n",
       "      <th></th>\n",
       "    </tr>\n",
       "  </thead>\n",
       "  <tbody>\n",
       "    <tr>\n",
       "      <th>0.5-1.5</th>\n",
       "      <td>0.141414</td>\n",
       "    </tr>\n",
       "    <tr>\n",
       "      <th>1.5-2.5</th>\n",
       "      <td>0.050505</td>\n",
       "    </tr>\n",
       "    <tr>\n",
       "      <th>2.5-3.5</th>\n",
       "      <td>0.090909</td>\n",
       "    </tr>\n",
       "    <tr>\n",
       "      <th>3.5-4.5</th>\n",
       "      <td>0.101010</td>\n",
       "    </tr>\n",
       "    <tr>\n",
       "      <th>4.5-5.5</th>\n",
       "      <td>0.050505</td>\n",
       "    </tr>\n",
       "    <tr>\n",
       "      <th>5.5-6.5</th>\n",
       "      <td>0.060606</td>\n",
       "    </tr>\n",
       "    <tr>\n",
       "      <th>6.5-7.5</th>\n",
       "      <td>0.101010</td>\n",
       "    </tr>\n",
       "    <tr>\n",
       "      <th>7.5-8.5</th>\n",
       "      <td>0.131313</td>\n",
       "    </tr>\n",
       "    <tr>\n",
       "      <th>8.5-9.5</th>\n",
       "      <td>0.040404</td>\n",
       "    </tr>\n",
       "    <tr>\n",
       "      <th>9.5-10.5</th>\n",
       "      <td>0.060606</td>\n",
       "    </tr>\n",
       "    <tr>\n",
       "      <th>10.5-11.5</th>\n",
       "      <td>0.030303</td>\n",
       "    </tr>\n",
       "    <tr>\n",
       "      <th>11.5-12.5</th>\n",
       "      <td>0.000000</td>\n",
       "    </tr>\n",
       "    <tr>\n",
       "      <th>12.5-13.5</th>\n",
       "      <td>0.010101</td>\n",
       "    </tr>\n",
       "    <tr>\n",
       "      <th>13.5-14.5</th>\n",
       "      <td>0.020202</td>\n",
       "    </tr>\n",
       "    <tr>\n",
       "      <th>14.5-15.5</th>\n",
       "      <td>0.010101</td>\n",
       "    </tr>\n",
       "    <tr>\n",
       "      <th>15.5-16.5</th>\n",
       "      <td>0.030303</td>\n",
       "    </tr>\n",
       "    <tr>\n",
       "      <th>16.5-17.5</th>\n",
       "      <td>0.010101</td>\n",
       "    </tr>\n",
       "    <tr>\n",
       "      <th>17.5-18.5</th>\n",
       "      <td>0.010101</td>\n",
       "    </tr>\n",
       "    <tr>\n",
       "      <th>18.5-19.5</th>\n",
       "      <td>0.040404</td>\n",
       "    </tr>\n",
       "    <tr>\n",
       "      <th>19.5-20.5</th>\n",
       "      <td>0.010101</td>\n",
       "    </tr>\n",
       "  </tbody>\n",
       "</table>\n",
       "</div>"
      ],
      "text/plain": [
       "                    ni\n",
       "Speed groups          \n",
       "0.5-1.5       0.141414\n",
       "1.5-2.5       0.050505\n",
       "2.5-3.5       0.090909\n",
       "3.5-4.5       0.101010\n",
       "4.5-5.5       0.050505\n",
       "5.5-6.5       0.060606\n",
       "6.5-7.5       0.101010\n",
       "7.5-8.5       0.131313\n",
       "8.5-9.5       0.040404\n",
       "9.5-10.5      0.060606\n",
       "10.5-11.5     0.030303\n",
       "11.5-12.5     0.000000\n",
       "12.5-13.5     0.010101\n",
       "13.5-14.5     0.020202\n",
       "14.5-15.5     0.010101\n",
       "15.5-16.5     0.030303\n",
       "16.5-17.5     0.010101\n",
       "17.5-18.5     0.010101\n",
       "18.5-19.5     0.040404\n",
       "19.5-20.5     0.010101"
      ]
     },
     "execution_count": 23,
     "metadata": {},
     "output_type": "execute_result"
    }
   ],
   "source": [
    "density_data = hist_data/len(data_wind)\n",
    "density_data"
   ]
  },
  {
   "attachments": {},
   "cell_type": "markdown",
   "metadata": {},
   "source": [
    "Plot the relative frequency distribution"
   ]
  },
  {
   "cell_type": "code",
   "execution_count": 42,
   "metadata": {},
   "outputs": [
    {
     "data": {
      "image/png": "[encoded data removed]",
      "text/plain": [
       "<Figure size 640x480 with 1 Axes>"
      ]
     },
     "metadata": {},
     "output_type": "display_data"
    }
   ],
   "source": [
    "# plot the data\n",
    "# histogram\n",
    "sns.histplot(data_wind[\"Anemometer reading [m/s]\"],\n",
    "             bins=[0.5,1.51,2.51,3.51,4.51,5.51,6.51,7.51,8.51,9.51,10.51,11.51,12.51,13.51,14.51,15.51,16.51,17.51,18.51,19.51,20.51],stat = 'density')\n",
    "# lim [0,25]\n",
    "plt.xlim(0,25)\n",
    "plt.show()\n"
   ]
  },
  {
   "attachments": {},
   "cell_type": "markdown",
   "metadata": {},
   "source": [
    "Table of useful data for analysis"
   ]
  },
  {
   "cell_type": "code",
   "execution_count": 25,
   "metadata": {},
   "outputs": [
    {
     "data": {
      "text/html": [
       "<div>\n",
       "<style scoped>\n",
       "    .dataframe tbody tr th:only-of-type {\n",
       "        vertical-align: middle;\n",
       "    }\n",
       "\n",
       "    .dataframe tbody tr th {\n",
       "        vertical-align: top;\n",
       "    }\n",
       "\n",
       "    .dataframe thead th {\n",
       "        text-align: right;\n",
       "    }\n",
       "</style>\n",
       "<table border=\"1\" class=\"dataframe\">\n",
       "  <thead>\n",
       "    <tr style=\"text-align: right;\">\n",
       "      <th></th>\n",
       "      <th>Speed groups</th>\n",
       "      <th>ni</th>\n",
       "      <th>Mid class value (Ui)</th>\n",
       "      <th>niUi</th>\n",
       "      <th>niUi^2</th>\n",
       "      <th>Rfi</th>\n",
       "    </tr>\n",
       "  </thead>\n",
       "  <tbody>\n",
       "    <tr>\n",
       "      <th>0</th>\n",
       "      <td>0.5-1.5</td>\n",
       "      <td>14</td>\n",
       "      <td>1</td>\n",
       "      <td>14</td>\n",
       "      <td>14</td>\n",
       "      <td>0.141414</td>\n",
       "    </tr>\n",
       "    <tr>\n",
       "      <th>1</th>\n",
       "      <td>1.5-2.5</td>\n",
       "      <td>5</td>\n",
       "      <td>2</td>\n",
       "      <td>10</td>\n",
       "      <td>20</td>\n",
       "      <td>0.050505</td>\n",
       "    </tr>\n",
       "    <tr>\n",
       "      <th>2</th>\n",
       "      <td>2.5-3.5</td>\n",
       "      <td>9</td>\n",
       "      <td>3</td>\n",
       "      <td>27</td>\n",
       "      <td>81</td>\n",
       "      <td>0.090909</td>\n",
       "    </tr>\n",
       "    <tr>\n",
       "      <th>3</th>\n",
       "      <td>3.5-4.5</td>\n",
       "      <td>10</td>\n",
       "      <td>4</td>\n",
       "      <td>40</td>\n",
       "      <td>160</td>\n",
       "      <td>0.101010</td>\n",
       "    </tr>\n",
       "    <tr>\n",
       "      <th>4</th>\n",
       "      <td>4.5-5.5</td>\n",
       "      <td>5</td>\n",
       "      <td>5</td>\n",
       "      <td>25</td>\n",
       "      <td>125</td>\n",
       "      <td>0.050505</td>\n",
       "    </tr>\n",
       "    <tr>\n",
       "      <th>5</th>\n",
       "      <td>5.5-6.5</td>\n",
       "      <td>6</td>\n",
       "      <td>6</td>\n",
       "      <td>36</td>\n",
       "      <td>216</td>\n",
       "      <td>0.060606</td>\n",
       "    </tr>\n",
       "    <tr>\n",
       "      <th>6</th>\n",
       "      <td>6.5-7.5</td>\n",
       "      <td>10</td>\n",
       "      <td>7</td>\n",
       "      <td>70</td>\n",
       "      <td>490</td>\n",
       "      <td>0.101010</td>\n",
       "    </tr>\n",
       "    <tr>\n",
       "      <th>7</th>\n",
       "      <td>7.5-8.5</td>\n",
       "      <td>13</td>\n",
       "      <td>8</td>\n",
       "      <td>104</td>\n",
       "      <td>832</td>\n",
       "      <td>0.131313</td>\n",
       "    </tr>\n",
       "    <tr>\n",
       "      <th>8</th>\n",
       "      <td>8.5-9.5</td>\n",
       "      <td>4</td>\n",
       "      <td>9</td>\n",
       "      <td>36</td>\n",
       "      <td>324</td>\n",
       "      <td>0.040404</td>\n",
       "    </tr>\n",
       "    <tr>\n",
       "      <th>9</th>\n",
       "      <td>9.5-10.5</td>\n",
       "      <td>6</td>\n",
       "      <td>10</td>\n",
       "      <td>60</td>\n",
       "      <td>600</td>\n",
       "      <td>0.060606</td>\n",
       "    </tr>\n",
       "    <tr>\n",
       "      <th>10</th>\n",
       "      <td>10.5-11.5</td>\n",
       "      <td>3</td>\n",
       "      <td>11</td>\n",
       "      <td>33</td>\n",
       "      <td>363</td>\n",
       "      <td>0.030303</td>\n",
       "    </tr>\n",
       "    <tr>\n",
       "      <th>11</th>\n",
       "      <td>11.5-12.5</td>\n",
       "      <td>0</td>\n",
       "      <td>12</td>\n",
       "      <td>0</td>\n",
       "      <td>0</td>\n",
       "      <td>0.000000</td>\n",
       "    </tr>\n",
       "    <tr>\n",
       "      <th>12</th>\n",
       "      <td>12.5-13.5</td>\n",
       "      <td>1</td>\n",
       "      <td>13</td>\n",
       "      <td>13</td>\n",
       "      <td>169</td>\n",
       "      <td>0.010101</td>\n",
       "    </tr>\n",
       "    <tr>\n",
       "      <th>13</th>\n",
       "      <td>13.5-14.5</td>\n",
       "      <td>2</td>\n",
       "      <td>14</td>\n",
       "      <td>28</td>\n",
       "      <td>392</td>\n",
       "      <td>0.020202</td>\n",
       "    </tr>\n",
       "    <tr>\n",
       "      <th>14</th>\n",
       "      <td>14.5-15.5</td>\n",
       "      <td>1</td>\n",
       "      <td>15</td>\n",
       "      <td>15</td>\n",
       "      <td>225</td>\n",
       "      <td>0.010101</td>\n",
       "    </tr>\n",
       "    <tr>\n",
       "      <th>15</th>\n",
       "      <td>15.5-16.5</td>\n",
       "      <td>3</td>\n",
       "      <td>16</td>\n",
       "      <td>48</td>\n",
       "      <td>768</td>\n",
       "      <td>0.030303</td>\n",
       "    </tr>\n",
       "    <tr>\n",
       "      <th>16</th>\n",
       "      <td>16.5-17.5</td>\n",
       "      <td>1</td>\n",
       "      <td>17</td>\n",
       "      <td>17</td>\n",
       "      <td>289</td>\n",
       "      <td>0.010101</td>\n",
       "    </tr>\n",
       "    <tr>\n",
       "      <th>17</th>\n",
       "      <td>17.5-18.5</td>\n",
       "      <td>1</td>\n",
       "      <td>18</td>\n",
       "      <td>18</td>\n",
       "      <td>324</td>\n",
       "      <td>0.010101</td>\n",
       "    </tr>\n",
       "    <tr>\n",
       "      <th>18</th>\n",
       "      <td>18.5-19.5</td>\n",
       "      <td>4</td>\n",
       "      <td>19</td>\n",
       "      <td>76</td>\n",
       "      <td>1444</td>\n",
       "      <td>0.040404</td>\n",
       "    </tr>\n",
       "    <tr>\n",
       "      <th>19</th>\n",
       "      <td>19.5-20.5</td>\n",
       "      <td>1</td>\n",
       "      <td>20</td>\n",
       "      <td>20</td>\n",
       "      <td>400</td>\n",
       "      <td>0.010101</td>\n",
       "    </tr>\n",
       "  </tbody>\n",
       "</table>\n",
       "</div>"
      ],
      "text/plain": [
       "   Speed groups  ni  Mid class value (Ui)  niUi  niUi^2       Rfi\n",
       "0       0.5-1.5  14                     1    14      14  0.141414\n",
       "1       1.5-2.5   5                     2    10      20  0.050505\n",
       "2       2.5-3.5   9                     3    27      81  0.090909\n",
       "3       3.5-4.5  10                     4    40     160  0.101010\n",
       "4       4.5-5.5   5                     5    25     125  0.050505\n",
       "5       5.5-6.5   6                     6    36     216  0.060606\n",
       "6       6.5-7.5  10                     7    70     490  0.101010\n",
       "7       7.5-8.5  13                     8   104     832  0.131313\n",
       "8       8.5-9.5   4                     9    36     324  0.040404\n",
       "9      9.5-10.5   6                    10    60     600  0.060606\n",
       "10    10.5-11.5   3                    11    33     363  0.030303\n",
       "11    11.5-12.5   0                    12     0       0  0.000000\n",
       "12    12.5-13.5   1                    13    13     169  0.010101\n",
       "13    13.5-14.5   2                    14    28     392  0.020202\n",
       "14    14.5-15.5   1                    15    15     225  0.010101\n",
       "15    15.5-16.5   3                    16    48     768  0.030303\n",
       "16    16.5-17.5   1                    17    17     289  0.010101\n",
       "17    17.5-18.5   1                    18    18     324  0.010101\n",
       "18    18.5-19.5   4                    19    76    1444  0.040404\n",
       "19    19.5-20.5   1                    20    20     400  0.010101"
      ]
     },
     "execution_count": 25,
     "metadata": {},
     "output_type": "execute_result"
    }
   ],
   "source": [
    "hist_data[\"Mid class value (Ui)\"] = [1,2,3,4,5,6,7,8,9,10,11,12,13,14,15,16,17,18,19,20]\n",
    "hist_data.reset_index(inplace=True)\n",
    "hist_data[\"niUi\"] = hist_data[\"ni\"]*hist_data[\"Mid class value (Ui)\"]\n",
    "hist_data[\"niUi^2\"] = hist_data[\"niUi\"]*hist_data[\"Mid class value (Ui)\"]\n",
    "hist_data[\"Rfi\"] = hist_data[\"ni\"]/hist_data[\"ni\"].sum()\n",
    "hist_data"
   ]
  },
  {
   "attachments": {},
   "cell_type": "markdown",
   "metadata": {},
   "source": [
    "Calculation of mean and standard deviation"
   ]
  },
  {
   "cell_type": "code",
   "execution_count": 26,
   "metadata": {},
   "outputs": [
    {
     "name": "stdout",
     "output_type": "stream",
     "text": [
      "Mean:  6.96969696969697\n",
      "Standard deviation:  4.9511850340606305\n"
     ]
    }
   ],
   "source": [
    "mean = hist_data[\"niUi\"].sum()/hist_data[\"ni\"].sum()\n",
    "sigma = np.sqrt((hist_data[\"niUi^2\"].sum()/hist_data[\"ni\"].sum())-mean**2)\n",
    "print(\"Mean: \", mean)\n",
    "print(\"Standard deviation: \", sigma)"
   ]
  },
  {
   "attachments": {},
   "cell_type": "markdown",
   "metadata": {},
   "source": [
    "Plot Rayleigh distribution"
   ]
  },
  {
   "cell_type": "code",
   "execution_count": 37,
   "metadata": {},
   "outputs": [
    {
     "data": {
      "text/plain": [
       "<Axes: xlabel='Anemometer reading [m/s]', ylabel='Density'>"
      ]
     },
     "execution_count": 37,
     "metadata": {},
     "output_type": "execute_result"
    },
    {
     "data": {
      "image/png": "[encoded data removed]",
      "text/plain": [
       "<Figure size 640x480 with 1 Axes>"
      ]
     },
     "metadata": {},
     "output_type": "display_data"
    }
   ],
   "source": [
    "# plot Rayleigh distribution\n",
    "X = np.linspace(0, 25, 101)\n",
    "YRayleigh = (np.pi/2)*(X/mean**2)*np.exp(-(np.pi/4)*((X/mean)**2))\n",
    "\n",
    "plt.plot(X, YRayleigh, color=\"r\", label=\"Anemometer reading [m/s]\")\n",
    "sns.histplot(data_wind[\"Anemometer reading [m/s]\"],  color=\"b\", label=\"Anemometer reading [m/s]\", bins=[0.5,1.51,2.51,3.51,4.51,5.51,6.51,7.51,8.51,9.51,10.51,11.51,12.51,13.51,14.51,15.51,16.51,17.51,18.51,19.51,20.51], stat=\"density\")\n"
   ]
  },
  {
   "attachments": {},
   "cell_type": "markdown",
   "metadata": {},
   "source": [
    "Plot Weibull distribution"
   ]
  },
  {
   "cell_type": "code",
   "execution_count": 43,
   "metadata": {},
   "outputs": [
    {
     "name": "stdout",
     "output_type": "stream",
     "text": [
      "k:  1.4356697571347838\n",
      "c:  7.675983823260405\n"
     ]
    },
    {
     "data": {
      "text/plain": [
       "<Axes: xlabel='Anemometer reading [m/s]', ylabel='Density'>"
      ]
     },
     "execution_count": 43,
     "metadata": {},
     "output_type": "execute_result"
    },
    {
     "data": {
      "image/png": "[encoded data removed]",
      "text/plain": [
       "<Figure size 640x480 with 1 Axes>"
      ]
     },
     "metadata": {},
     "output_type": "display_data"
    }
   ],
   "source": [
    "#Weibull distribution\n",
    "from scipy.special import gamma, factorial\n",
    "k = (0.9874*mean/sigma)**(1.0983)\n",
    "x = 1 + 1/k\n",
    "c = mean/gamma(x)\n",
    "X = np.linspace(0, 25, 101)\n",
    "Yweibull = k/c*((X/c)**(k-1))*np.exp(-((X/c)**k))\n",
    "print(\"k: \", k)\n",
    "print(\"c: \", c)\n",
    "plt.plot(X, Yweibull, color='r', label='Weibull distribution')\n",
    "sns.histplot(data_wind[\"Anemometer reading [m/s]\"],  color=\"b\", label=\"Anemometer reading [m/s]\", bins= [0.5,1.51,2.51,3.51,4.51,5.51,6.51,7.51,8.51,9.51,10.51,11.51,12.51,13.51,14.51,15.51,16.51,17.51,18.51,19.51,20.51],stat=\"density\")"
   ]
  },
  {
   "attachments": {},
   "cell_type": "markdown",
   "metadata": {},
   "source": [
    "Conparison of the two models"
   ]
  },
  {
   "cell_type": "code",
   "execution_count": 45,
   "metadata": {},
   "outputs": [
    {
     "data": {
      "image/png": "[encoded data removed]",
      "text/plain": [
       "<Figure size 640x480 with 1 Axes>"
      ]
     },
     "metadata": {},
     "output_type": "display_data"
    }
   ],
   "source": [
    "# plot rayleigh and weibull distribution\n",
    "plt.plot(X, YRayleigh, color=\"r\", label=\"Rayleigh distribution\")\n",
    "plt.plot(X, Yweibull, color='b', label='Weibull distribution')\n",
    "sns.histplot(data_wind[\"Anemometer reading [m/s]\"],  label=\" Real distribution\", bins=[0.5,1.51,2.51,3.51,4.51,5.51,6.51,7.51,8.51,9.51,10.51,11.51,12.51,13.51,14.51,15.51,16.51,17.51,18.51,19.51,20.51],stat=\"density\")\n",
    "legend = plt.legend(loc='upper right', shadow=True)"
   ]
  },
  {
   "cell_type": "code",
   "execution_count": 30,
   "metadata": {},
   "outputs": [
    {
     "name": "stdout",
     "output_type": "stream",
     "text": [
      "sumweibull:  0.4309580048430389\n",
      "sumrayleigh:  0.47636671877604264\n"
     ]
    }
   ],
   "source": [
    "# accuracy of the fit\n",
    "sumweibull = 0\n",
    "sumrayleigh = 0\n",
    "for k in range(1, 21):\n",
    "    sumweibull += abs(hist_data[\"Rfi\"][k-1] - Yweibull[4*k])\n",
    "    sumrayleigh += abs(hist_data[\"Rfi\"][k-1] - YRayleigh[4*k])\n",
    "print(\"sumweibull: \", sumweibull)\n",
    "print(\"sumrayleigh: \", sumrayleigh)"
   ]
  },
  {
   "attachments": {},
   "cell_type": "markdown",
   "metadata": {},
   "source": [
    "Kinetic energy"
   ]
  },
  {
   "cell_type": "code",
   "execution_count": 31,
   "metadata": {},
   "outputs": [
    {
     "name": "stdout",
     "output_type": "stream",
     "text": [
      "Umaxrayleigh:  9.631958106473595 EcRayleigh/rhoV:  46.3873084824312\n",
      "Umaxweibull:  7.694732308048615 EcWeiBull/rhoV:  29.604452646263585\n"
     ]
    }
   ],
   "source": [
    "Umaxrayleigh = np.sqrt(6/np.pi)*mean\n",
    "Umaxweibull = ((1+1/k)**(1/k))*c\n",
    "EcRayleigh = Umaxrayleigh**2/2\n",
    "EcWeiBull = Umaxweibull**2/2\n",
    "print(\"Umaxrayleigh: \", Umaxrayleigh, \"EcRayleigh/rhoV: \", EcRayleigh)\n",
    "print(\"Umaxweibull: \", Umaxweibull, \"EcWeiBull/rhoV: \", EcWeiBull)"
   ]
  },
  {
   "attachments": {},
   "cell_type": "markdown",
   "metadata": {},
   "source": [
    "Variation of wind speed"
   ]
  },
  {
   "cell_type": "code",
   "execution_count": 32,
   "metadata": {},
   "outputs": [
    {
     "name": "stdout",
     "output_type": "stream",
     "text": [
      "variation:  0.7103874179304382\n"
     ]
    }
   ],
   "source": [
    "variation = sigma/mean\n",
    "print(\"variation: \", variation)"
   ]
  }
 ],
 "metadata": {
  "kernelspec": {
   "display_name": "Python 3",
   "language": "python",
   "name": "python3"
  },
  "language_info": {
   "codemirror_mode": {
    "name": "ipython",
    "version": 3
   },
   "file_extension": ".py",
   "mimetype": "text/x-python",
   "name": "python",
   "nbconvert_exporter": "python",
   "pygments_lexer": "ipython3",
   "version": "3.10.10"
  },
  "orig_nbformat": 4
 },
 "nbformat": 4,
 "nbformat_minor": 2
}
